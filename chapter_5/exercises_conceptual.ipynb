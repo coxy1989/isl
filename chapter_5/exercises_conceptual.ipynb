{
 "cells": [
  {
   "cell_type": "code",
   "execution_count": 7,
   "metadata": {},
   "outputs": [],
   "source": [
    "import numpy as np\n",
    "import seaborn as sns\n",
    "import pandas as pd\n",
    "import statsmodels.formula.api as smf\n",
    "from scipy.special import factorial"
   ]
  },
  {
   "cell_type": "markdown",
   "metadata": {},
   "source": [
    "1. Using basic statistical properties of the variance, as well as single variable calculus, derive `(5.6)`. In other words, prove that α given by `(5.6)` does indeed minimize Var`(αX + (1 − α)Y )`."
   ]
  },
  {
   "cell_type": "markdown",
   "metadata": {},
   "source": [
    "[q1](https://github.com/coxy1989/mlsabbatical/blob/master/notebooks/statistical_learning/ch5_statistical_learning/q1.JPG?raw=true)"
   ]
  },
  {
   "cell_type": "markdown",
   "metadata": {},
   "source": [
    "2. We will now derive the probability that a given observation is part of a bootstrap sample. Suppose that we obtain a bootstrap sample from a set of `n` observations."
   ]
  },
  {
   "cell_type": "markdown",
   "metadata": {},
   "source": [
    "(a) What is the probability that the first bootstrap observation is not the `jth` observation from the original sample? Justify your answer.\n",
    "\n",
    "- `(n - 1) / n = 1 - (1 / n)`\n",
    "- `(n - 1)` outcomes from `n` possibilites correspond to this event"
   ]
  },
  {
   "cell_type": "markdown",
   "metadata": {},
   "source": [
    "(b) What is the probability that the second bootstrap observation is not the `jth` observation from the original sample?"
   ]
  },
  {
   "cell_type": "markdown",
   "metadata": {},
   "source": [
    "- `(n - 1) / n = 1 - (1 / n)`\n",
    "- `(n - 1)` outcomes from `n` possibilites correspond to this event\n",
    "- This is identical to (a) due to replacement."
   ]
  },
  {
   "cell_type": "markdown",
   "metadata": {},
   "source": [
    "(c) Argue that the probability that the jth observation is not in the bootstrap sample is `(1 − 1/n) ^ n`"
   ]
  },
  {
   "cell_type": "markdown",
   "metadata": {},
   "source": [
    "- The probability that any any observation in the sample is not the `jth` observation from the original sample is `(1 -1/n) ^n`\n",
    "- Therefore, the probability that none of them are is `(1 - 1/n) * (1 -1/n) * ...` = `(1 -1/n) ^n`"
   ]
  },
  {
   "cell_type": "markdown",
   "metadata": {},
   "source": [
    "(d) When `n = 5`, what is the probability that the `jth` observation is in the bootstrap sample?"
   ]
  },
  {
   "cell_type": "code",
   "execution_count": 42,
   "metadata": {},
   "outputs": [
    {
     "data": {
      "text/plain": [
       "0.6723199999999999"
      ]
     },
     "execution_count": 42,
     "metadata": {},
     "output_type": "execute_result"
    }
   ],
   "source": [
    "1 - (1 - (1/5)) ** 5"
   ]
  },
  {
   "cell_type": "markdown",
   "metadata": {},
   "source": [
    "(d) When n = 100, what is the probability that the jth observation is in the bootstrap sample?"
   ]
  },
  {
   "cell_type": "code",
   "execution_count": 44,
   "metadata": {},
   "outputs": [
    {
     "data": {
      "text/plain": [
       "0.6339676587267709"
      ]
     },
     "execution_count": 44,
     "metadata": {},
     "output_type": "execute_result"
    }
   ],
   "source": [
    "1 - (1 - (1/100)) ** 100"
   ]
  },
  {
   "cell_type": "markdown",
   "metadata": {},
   "source": [
    "(f) When n = 10, 000, what is the probability that the jth observa- tion is in the bootstrap sample?"
   ]
  },
  {
   "cell_type": "code",
   "execution_count": 64,
   "metadata": {},
   "outputs": [
    {
     "data": {
      "text/plain": [
       "0.6321389535670295"
      ]
     },
     "execution_count": 64,
     "metadata": {},
     "output_type": "execute_result"
    }
   ],
   "source": [
    "1 - (1 - (1/10000)) ** 10000"
   ]
  },
  {
   "cell_type": "markdown",
   "metadata": {},
   "source": [
    "(g) Create a plot that displays, for each integer value of n from 1 to 100,000, the probability that the jth observation is in the bootstrap sample. Comment on what you observe.\n",
    "\n",
    "- The value rapidly approaches a limit at around `0.63`"
   ]
  },
  {
   "cell_type": "code",
   "execution_count": 4,
   "metadata": {},
   "outputs": [
    {
     "data": {
      "text/plain": [
       "<matplotlib.axes._subplots.AxesSubplot at 0x111886f60>"
      ]
     },
     "execution_count": 4,
     "metadata": {},
     "output_type": "execute_result"
    },
    {
     "data": {
      "image/png": "[encoded data removed]",
      "text/plain": [
       "<Figure size 432x288 with 1 Axes>"
      ]
     },
     "metadata": {},
     "output_type": "display_data"
    }
   ],
   "source": [
    "xs = np.arange(1,100000)\n",
    "ys = [1 - (1 - (1/x)) ** x for x in xs]\n",
    "sns.lineplot(x=xs, y=ys)"
   ]
  },
  {
   "cell_type": "markdown",
   "metadata": {},
   "source": [
    "(h) We will now investigate numerically the probability that a bootstrap sample of size `n = 100` contains the `jth` observation. Here `j = 4`. We repeatedly create bootstrap samples, and each time we record whether or not the fourth observation is contained in the bootstrap sample.\n",
    "\n",
    "- This is consistent with our findings in (g)"
   ]
  },
  {
   "cell_type": "code",
   "execution_count": 5,
   "metadata": {},
   "outputs": [
    {
     "data": {
      "text/plain": [
       "0.6284628462846285"
      ]
     },
     "execution_count": 5,
     "metadata": {},
     "output_type": "execute_result"
    }
   ],
   "source": [
    "res = []\n",
    "for r in np.arange(1, 10000):\n",
    "    data = pd.Series(np.arange(1,101))\n",
    "    sample = data.sample(data.shape[0], replace=True)\n",
    "    res.append((sample == 4).sum() > 0)\n",
    "\n",
    "np.array(res).mean()"
   ]
  },
  {
   "cell_type": "markdown",
   "metadata": {},
   "source": [
    "3.We now review k-fold cross-validation."
   ]
  },
  {
   "cell_type": "markdown",
   "metadata": {},
   "source": [
    "(a) Explain how k-fold cross-validation is implemented.\n",
    "\n",
    "- Select a value for `k`\n",
    "- Split data into `k` subsets\n",
    "- `Enter Loop over k`\n",
    "- Train the model using `k - 1` of the subsets.\n",
    "- Evaluate model on the remaining subset that was *not* used in training and stash the resulting performance metric.\n",
    "- (Back to top of loop until each subset has been left out precisely once)\n",
    "- `Exit Loop`\n",
    "- Take average of stashed performance metrics.\n"
   ]
  },
  {
   "cell_type": "markdown",
   "metadata": {},
   "source": [
    "(b) What are the advantages and disadvantages of k-fold cross-validation relative to:"
   ]
  },
  {
   "cell_type": "markdown",
   "metadata": {},
   "source": [
    "i. The validation set approach?\n",
    "\n",
    "- When the volume of data available is limited, k-fold cross validation affords a lower bias approximation of the test error when compared to the validation set approach as more of the available data is used to train the model.\n",
    "\n",
    "- k-fold cross validation is conceptually more complicated and is more effort to implement than the validation set approach. When the volume of available data is very large, it is possible to obtain a low bias estimate of the test error using the simpler validation set approach.\n",
    " \n",
    "\n",
    "ii. LOOCV?\n",
    "\n",
    "- LOOCV is equivalent to k-fold where `k = n`. There is a bias-variance trade off in the estimate provided for the test error given different valus of `k`. As the value for `k` approaches `n` the variance of the estimate increases and the bias of the estimate decreases. The inverse is true as the value for `k` approaches `2`. LOOC affords a lower bias estimate of the test error but incurs higher variance.\n"
   ]
  },
  {
   "cell_type": "markdown",
   "metadata": {},
   "source": [
    "4. Suppose that we use some statistical learning method to make a prediction for the response Y for a particular value of the predictor X. Carefully describe how we might estimate the standard deviation of our prediction.\n",
    "\n",
    "We can achieve this using the bootstrap.\n",
    "\n",
    "- Choose a large value for rho, on the order of `10^5`\n",
    "- `Enter loop over rho`\n",
    "- Resample the training set with replacement\n",
    "- Use the statistical learning method to obtain the prediction using the resampled data, stash the value\n",
    "- (Back to top of loop until we have `rho` predictions)\n",
    "- `Exit loop`\n",
    "- Calculate SD of predictions\n"
   ]
  }
 ],
 "metadata": {
  "kernelspec": {
   "display_name": "Python 3",
   "language": "python",
   "name": "python3"
  },
  "language_info": {
   "codemirror_mode": {
    "name": "ipython",
    "version": 3
   },
   "file_extension": ".py",
   "mimetype": "text/x-python",
   "name": "python",
   "nbconvert_exporter": "python",
   "pygments_lexer": "ipython3",
   "version": "3.6.5"
  }
 },
 "nbformat": 4,
 "nbformat_minor": 2
}
