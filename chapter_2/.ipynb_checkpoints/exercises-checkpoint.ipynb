{
 "cells": [
  {
   "cell_type": "markdown",
   "metadata": {},
   "source": [
    "#### QUESTION 1\n",
    "\n",
    "1. For each of parts (a) through (d), indicate whether we would generally expect the performance of a flexible statistical learning method to be better or worse than an inflexible method. Justify your answer.\n",
    "\n",
    "(a) The sample size n is extremely large, and the number of predic- tors p is small.\n",
    "\n",
    "(b) The number of predictors p is extremely large, and the number of observations n is small.\n",
    "\n",
    "(c) The relationship between the predictors and response is highly non-linear.\n",
    "\n",
    "(d) The variance of the error terms, i.e. σ2 = Var(ε), is extremely high."
   ]
  },
  {
   "cell_type": "markdown",
   "metadata": {},
   "source": [
    "Answers below refer to the expression for the expected value of the loss function: `E[y0 - f_hat]^2 = Var[f_hat(x0)] + [Bias[f_hat(x0)]]^2 + Var[epsion]`.\n",
    "\n",
    "(a) Better\n",
    "- Variance increases slowly or not at all initially: for a large number of observations, we can support more flexible models before variance begins to increase significantly.\n",
    "- Decreasing bias: As we increase the flexibility of the model, we expect the bias to decrease as the model captures more structure in the training data.\n",
    "\n",
    "(b) Worse\n",
    "- Variance increases rapidly: for a small number of observations, we can support a less flexible model before variance begins to increase significantly.\n",
    "- The rate of increase of variance outweighs rate of decrease in bias as the number of paramaters increases for a fixed small number of observations.\n",
    "\n",
    "(c) Better\n",
    "- The variance increases slowly or not at all initially.\n",
    "- The bias decreases rapidly.\n",
    "\n",
    "(d) Worse\n",
    "- The variance increases rapidly.\n",
    "- The rate of increase of the variance outweighs the rate of decrease in bias."
   ]
  },
  {
   "cell_type": "markdown",
   "metadata": {},
   "source": [
    "#### QUESTION 2\n",
    "\n",
    "2. Explain whether each scenario is a classification or regression prob- lem, and indicate whether we are most interested in inference or pre- diction. Finally, provide n and p.\n",
    "\n",
    "(a) We collect a set of data on the top 500 firms in the US. For each firm we record profit, number of employees, industry and the CEO salary. We are interested in understanding which factors affect CEO salary.\n",
    "\n",
    "(b) We are considering launching a new product and wish to know whether it will be a success or a failure. We collect data on 20 similar products that were previously launched. For each prod- uct we have recorded whether it was a success or failure, price charged for the product, marketing budget, competition price, and ten other variables.\n",
    "\n",
    "(c) We are interested in predicting the % change in the USD/Euro exchange rate in relation to the weekly changes in the world stock markets. Hence we collect weekly data for all of 2012. For each week we record the % change in the USD/Euro, the % change in the US market, the % change in the British market, and the % change in the German market."
   ]
  },
  {
   "cell_type": "markdown",
   "metadata": {},
   "source": [
    "(a) regression, inference, n=500, p=3\n",
    "\n",
    "(b) classification, prediction, n=20, p=13\n",
    "\n",
    "(c) regression, prediction, n=52, p=4"
   ]
  },
  {
   "cell_type": "markdown",
   "metadata": {},
   "source": [
    "#### QUESTION 3\n",
    "\n",
    "3. We now revisit the bias-variance decomposition.\n",
    "\n",
    "(a) Provide a sketch of typical (squared) bias, variance, training error, test error, and Bayes (or irreducible) error curves, on a single plot, as we go from less flexible statistical learning methods towards more flexible approaches. The x-axis should represent the amount of flexibility in the method, and the y-axis should represent the values for each curve. There should be five curves. Make sure to label each one.\n",
    "\n",
    "(b) Explain why each of the five curves has the shape displayed in part (a)."
   ]
  },
  {
   "cell_type": "code",
   "execution_count": 18,
   "metadata": {},
   "outputs": [
    {
     "data": {
      "text/plain": [
       "<matplotlib.axes._subplots.AxesSubplot at 0x11dad0ef0>"
      ]
     },
     "execution_count": 18,
     "metadata": {},
     "output_type": "execute_result"
    },
    {
     "data": {
      "image/png": "[encoded data removed]",
      "text/plain": [
       "<Figure size 432x288 with 1 Axes>"
      ]
     },
     "metadata": {},
     "output_type": "display_data"
    }
   ],
   "source": [
    "import seaborn as sns\n",
    "import numpy as np\n",
    "import pandas as pd\n",
    "import sklearn.linear_model as linear_model\n",
    "from sklearn.preprocessing import PolynomialFeatures\n",
    "import matplotlib.pyplot as plt\n",
    "\n",
    "np.random.seed(0)\n",
    "\n",
    "# Generate some data\n",
    "x = np.arange(0, np.pi , np.pi / 25)\n",
    "noise = np.random.normal(0,1, x.size) / 3\n",
    "y = np.sin(x)\n",
    "true_df = pd.DataFrame(data={'x' : x, 'y' : y})\n",
    "train_df = pd.DataFrame(data={'x' : x, 'y' : y + noise})\n",
    "\n",
    "\n",
    "# Visualise models vs ideal function\n",
    "plt.ylim(2, -2)\n",
    "sns.lineplot(x='x', y='y', data=true_df, ci=None)\n",
    "sns.regplot(x='x', y='y', data=train_df, order=1, ci=None)\n",
    "sns.regplot(x='x', y='y', data=train_df, order=2, ci=None)\n",
    "sns.regplot(x='x', y='y', data=train_df, order=7, ci=None)\n",
    "\n",
    "\n",
    "# TODO - Write simulations to generate plots on p36 of ISL.\n",
    "# The plots on p36 of ISL are the plots this question is after.\n",
    "# Those plots are a bit more involved to simulate - I'll come back and do them at some point."
   ]
  },
  {
   "cell_type": "markdown",
   "metadata": {},
   "source": [
    "(b) *referring to plots on p36 of ISL*\n",
    "\n",
    "Three scenarios are depicted, from leftmost to rightmost:\n",
    "\n",
    "(1) The ideal function is somewhat non-linear\n",
    "\n",
    "- Bias: Initially decreases rapidy as more complex model captures the structure in the training data, before becoming flat as increasing complexity further does not model the true relationship any better.\n",
    "- Variance: initially increases slowly as a moderately complex model best approximates the true relationship, before increasing rapidly as more complex models capture the noise in the training set and fail to generalize beyond it.\n",
    "- Test MSE: Summing the bias and variance curves yields the u shaped test MSE curve.\n",
    "- Training MSE: (not pictured) decreases monotonically with model complexity as more structure is captured in the training data and predictive performance on the training set improves.\n",
    "\n",
    "(2) The ideal function is linear\n",
    "\n",
    "- Bias: Flat - the true relationship is best represented by a low complexity model, increasing model complexity does not model the true realtionship any better.\n",
    "- Variance: Increases - the true realtionship is best approximated by a low compexity model, more complex models capture the noise in the training set and fail to generalize beyond it.\n",
    "- Test MSE: Summing the bias and variance curves yields the (half) u shaped test MSE curve.\n",
    "- Training MSE: (not pictured) decreases monotonically with model complexity as more structure is captured in the training data and predictive performance on the training set improves.\n",
    "\n",
    "(3) The ideal function is **very** non-linear\n",
    "\n",
    "- Bias: Initially decreases very rapidly - as more complex model captures the structure in the training data, before becoming flat as increasing complexity further does not model the true relationship any better.\n",
    "- Variance: Flat for a while - a very complex model best approximates the true relationship, before increasing slightly as extremely complex models capture the noise in the training set and fail to generalize beyond it.\n",
    "- Test MSE: Summing the bias and variance curves yields the (half) u shaped test MSE curve.\n",
    "- Training MSE: (not pictured) decreases monotonically with model complexity as more structure is captured in the training data and predictive performance on the training set improves.\n",
    "\n"
   ]
  },
  {
   "cell_type": "markdown",
   "metadata": {},
   "source": [
    "#### QUESTION 4\n",
    "\n",
    "4. You will now think of some real-life applications for statistical learning.\n",
    "\n",
    "(a) Describe three real-life applications in which classification might be useful. Describe the response, as well as the predictors. Is the goal of each application inference or prediction? Explain your answer.\n",
    "\n",
    "(b) Describe three real-life applications in which regression might be useful. Describe the response, as well as the predictors. Is the goal of each application inference or prediction? Explain your answer.\n",
    "\n",
    "(c) Describe three real-life applications in which cluster analysis might be useful.\n"
   ]
  },
  {
   "cell_type": "markdown",
   "metadata": {},
   "source": [
    "\n",
    "(a)\n",
    "\n",
    "- Response: Weed vs. Crop\n",
    "- Predictors: Image\n",
    "- Prediction: Not interested in interpreting the input pixels, only interested in accurate classification.\n",
    "\n",
    "- Response: Fraud vs Not Fraud\n",
    "- Predictors: Time, location, merchant identifier..\n",
    "- Prediction: Both, definately interested in accurate prediction - interpretablity is a bonus as identifying strong predictors of fraud could plausiblly aid efforts to prevent it.\n",
    "\n",
    "- Response: Fake news or Not\n",
    "- Predictors: Content, Time, IP address, comments\n",
    "- Prediction: Both, definately interested in accurate prediction - interpretablity is a bonus as identifying strong predictors of fake news could plausiblly aid efforts to label it as such faster.\n",
    "\n",
    "(b)\n",
    "\n",
    "- Response: House Price\n",
    "- Predictors: Number of bedrooms, street, nearest school...\n",
    "- Prediction: Both, definately interested in accurate prediction - interpretablity is a bonus as identifying strong predictors of house price could plausiblly aid efforts to take advantage of real estate opportunites.\n",
    "\n",
    "- Response: Stock Price\n",
    "- Predictors: historical stock data\n",
    "- Prediction: If we could make accurate predictions we would be rich.\n",
    "\n",
    "- Response: Life expectancy\n",
    "- Predictors: lifestyle, family history of disease, genome\n",
    "- Prediction: Both - an actuary would like an accurate prediction, an individual would like to deploy effoft in lifestyle changes to live longer.\n",
    "\n",
    "(c)\n",
    "\n",
    "- Gene expression clustering in cancer cell lines.\n",
    "- Topic clustering in news stories.\n",
    "- Infectious agent clustering.\n"
   ]
  },
  {
   "cell_type": "markdown",
   "metadata": {},
   "source": [
    "#### Question 5\n",
    "\n",
    "What are the advantages and disadvantages of a very flexible (versus a less flexible) approach for regression or classification? Under what circumstances might a more flexible approach be preferred to a less flexible approach? When might a less flexible approach be preferred?\n"
   ]
  },
  {
   "cell_type": "markdown",
   "metadata": {},
   "source": [
    "*Very flexible vs Less flexible*\n",
    "\n",
    "- Bias: Flexible models have lower bias.\n",
    "- Variance: Flexible models have high variance if there are not a sufficient number of observations to fit their parameters.\n",
    "\n",
    "*When flexible preferred*\n",
    "- Large number of observations\n",
    "- True relationship is complex\n",
    "\n",
    "*When less flexible preferred*\n",
    "- Small number of observations\n",
    "- True realtionship is not complex"
   ]
  },
  {
   "cell_type": "markdown",
   "metadata": {},
   "source": [
    "#### Question 6\n",
    "\n",
    "Describe the differences between a parametric and a non-parametric statistical learning approach. What are the advantages of a para- metric approach to regression or classification (as opposed to a non- parametric approach)? What are its disadvantages?\n"
   ]
  },
  {
   "cell_type": "markdown",
   "metadata": {},
   "source": [
    "*Parametric*: Makes assumptions about the structure of the function we are trying to approximate in order to reduce the search space of possible functions - for example, a linear model assumes a linear function and need only search over the space of possible coefficeints, rather that the space of all possible functions.\n",
    "\n",
    "*Non-Parametric*: Makes no assumption about the structure of the function we are trying to approximate - for example, KNN.\n",
    "\n",
    "*advantages / disadvantages *\n",
    "\n",
    "Non-parametric models must search over a very large space, become intractable for highly dimensional data - example; the curse of dimesnionality with KNN. Parametric models avoid this problem.\n",
    "\n",
    "Non-parametric make no assumption about the structure of the true fuction and therefore have low bias. Parametric models have higher bias.\n"
   ]
  },
  {
   "cell_type": "markdown",
   "metadata": {},
   "source": [
    "#### Question 7\n",
    "\n",
    "The table below provides a training data set containing six observations, three predictors, and one qualitative response variable.\n",
    "\n",
    "\n",
    "|  obs | X1  | X2  | X3  |  Y   |\n",
    "|------|-----|-----|-----|------|\n",
    "| 1    | 0   |  3  |  0  | Red  |\n",
    "| 2    | 2   |  0  |  0  | Red  |\n",
    "| 3    | 0   |  1  |  3  | Red  |\n",
    "| 4    | 0   |  1  |  2  | Green|\n",
    "| 5    | -1  |  0  |  1  | Green|\n",
    "| 6    | 1   |  1  |  1  | Red  |\n",
    "\n",
    "\n",
    "Suppose we wish to use this data set to make a prediction for Y when X1 = X2 = X3 = 0 using K-nearest neighbors.\n",
    "\n",
    "(a) Compute the Euclidean distance between each observation and the test point,X1 =X2 =X3 =0.\n",
    "          \n",
    "(b) What is our prediction with K = 1? Why?\n",
    "\n",
    "(c) What is our prediction with K = 3? Why?\n",
    "\n",
    "(d) If the Bayes decision boundary in this problem is highly non- linear, then would we expect the best value for K to be large or small? Why?\n"
   ]
  },
  {
   "cell_type": "code",
   "execution_count": 54,
   "metadata": {},
   "outputs": [
    {
     "name": "stdout",
     "output_type": "stream",
     "text": [
      "(a): nearest observations: [5 6 2 4 1 3]\n"
     ]
    }
   ],
   "source": [
    "from sklearn.neighbors import NearestNeighbors\n",
    "import numpy as np\n",
    "\n",
    "X = pd.DataFrame(data={'X1': [0,2,0,0,-1,1],\n",
    "                       'X2': [3,0,1,1,0,1],\n",
    "                       'X3': [0,0,3,2,1,1]})\n",
    "test_point = pd.DataFrame(data={'X1': [0],\n",
    "                                'X2': [0],\n",
    "                                'X3': [0]})\n",
    "\n",
    "# (a)\n",
    "nbrs = NearestNeighbors(n_neighbors=6, algorithm='ball_tree').fit(X)\n",
    "dist, idx = nbrs.kneighbors(test_point)\n",
    "print('(a): nearest observations: {}'.format(idx[0] + 1))\n",
    "\n",
    "\n",
    "# (b)\n",
    "# Answer - Green: nearest observation is: Green\n",
    "\n",
    "# (c)\n",
    "# Answer - Red: 3 nearest observations are: Green, Red, Red.\n",
    "\n",
    "# (d)\n",
    "# Answer - Small: smaller value for k yields model with lower bias and higher variance."
   ]
  }
 ],
 "metadata": {
  "kernelspec": {
   "display_name": "Python 3",
   "language": "python",
   "name": "python3"
  },
  "language_info": {
   "codemirror_mode": {
    "name": "ipython",
    "version": 3
   },
   "file_extension": ".py",
   "mimetype": "text/x-python",
   "name": "python",
   "nbconvert_exporter": "python",
   "pygments_lexer": "ipython3",
   "version": "3.6.5"
  }
 },
 "nbformat": 4,
 "nbformat_minor": 2
}
