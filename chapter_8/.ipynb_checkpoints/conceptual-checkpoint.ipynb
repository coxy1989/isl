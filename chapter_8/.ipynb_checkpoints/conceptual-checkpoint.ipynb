{
 "cells": [
  {
   "cell_type": "markdown",
   "metadata": {},
   "source": [
    "1. Draw an example (of your own invention) of a partition of two- dimensional feature space that could result from recursive binary splitting. Your example should contain at least six regions. Draw a decision tree corresponding to this partition. Be sure to label all as- pects of your figures, including the regions R1, R2, . . ., the cutpoints t1,t2,..., and so forth."
   ]
  },
  {
   "cell_type": "markdown",
   "metadata": {},
   "source": [
    "![](https://github.com/coxy1989/mlsabbatical/blob/master/notebooks/statistical_learning/ch8_statistical_learning/q1.JPG?raw=true)"
   ]
  },
  {
   "cell_type": "markdown",
   "metadata": {},
   "source": [
    "It is mentioned in Section 8.2.3 that boosting using depth-one trees (or stumps) leads to an additive model: that is, a model of the form: `SEE ISL p332`\n",
    "\n",
    "Explain why this is the case. You can begin with (8.12) in Algorithm 8.2.\n",
    "\n",
    "... We can see this by inspection?!"
   ]
  },
  {
   "cell_type": "markdown",
   "metadata": {},
   "source": [
    "3. Consider the Gini index, classification error, and entropy in a simple classification setting with two classes. Create a single plot that displays each of these quantities as a function of pˆm1. The x- axis should display pˆm1, ranging from 0 to 1, and the y-axis should display the value of the Gini index, classification error, and entropy.\n",
    "\n",
    "*Hint: In a setting with two classes, pˆm1 = 1 − pˆm2. You could make this plot by hand, but it will be much easier to make in R.*"
   ]
  },
  {
   "cell_type": "code",
   "execution_count": 61,
   "metadata": {},
   "outputs": [
    {
     "data": {
      "text/plain": [
       "<matplotlib.axes._subplots.AxesSubplot at 0x10f565320>"
      ]
     },
     "execution_count": 61,
     "metadata": {},
     "output_type": "execute_result"
    },
    {
     "data": {
      "image/png": "[encoded data removed]",
      "text/plain": [
       "<Figure size 432x288 with 1 Axes>"
      ]
     },
     "metadata": {},
     "output_type": "display_data"
    }
   ],
   "source": [
    "import numpy as np\n",
    "import pandas as pd\n",
    "import seaborn as sns\n",
    "\n",
    "# binary classification: pm1 is the complement of pm2\n",
    "pm1 = np.linspace(0, 1, 10)\n",
    "pm2 = np.repeat(1, 10) - pm1\n",
    "pmk = pd.DataFrame({'pm1':pm1,'pm2':pm2})\n",
    "\n",
    "# binary classification: k = 2\n",
    "\n",
    "# Gini\n",
    "g1 = pmk.pm1 * (1 - pmk.pm1)\n",
    "g2 = pmk.pm2 * (1 - pmk.pm2)\n",
    "g = g1 + g2\n",
    "\n",
    "# Entropy\n",
    "e1 = pmk.pm1 * np.log(pmk.pm1.replace([0], 1))\n",
    "e2 = pmk.pm2 * np.log(pmk.pm2.replace([0], 1))\n",
    "e = -(e1 + e2)\n",
    "\n",
    "\n",
    "# Classification error\n",
    "# it is the fraction not belonging to most common class\n",
    "ce = pmk.min(axis=1)\n",
    "\n",
    "\n",
    "\n",
    "# plot\n",
    "line_df = pd.DataFrame({'gini' : g,\n",
    "                        'pm1': pmk.pm1,\n",
    "                        'class_err': ce,\n",
    "                        'entropy' : e})\n",
    "sns.lineplot(x='pm1', y='gini', data=line_df, color='tab:red')\n",
    "sns.lineplot(x='pm1', y='entropy', data=line_df, color='tab:blue')\n",
    "sns.lineplot(x='pm1', y='class_err', data=line_df, color='tab:green')"
   ]
  },
  {
   "cell_type": "markdown",
   "metadata": {},
   "source": [
    "4. This question relates to the plots in Figure 8.12.\n",
    "\n",
    "(a) Sketch the tree corresponding to the partition of the predictor space illustrated in the left-hand panel of Figure 8.12. The num- bers inside the boxes indicate the mean of Y within each region.\n",
    "\n",
    "(b) Create a diagram similar to the left-hand panel of Figure 8.12, using the tree illustrated in the right-hand panel of the same figure. You should divide up the predictor space into the correct regions, and indicate the mean for each region."
   ]
  },
  {
   "cell_type": "markdown",
   "metadata": {},
   "source": [
    "![](https://github.com/coxy1989/mlsabbatical/blob/master/notebooks/statistical_learning/ch8_statistical_learning/q4.JPG?raw=true)"
   ]
  },
  {
   "cell_type": "markdown",
   "metadata": {},
   "source": [
    "5. Suppose we produce ten bootstrapped samples from a data set containing red and green classes. We then apply a classification tree to each bootstrapped sample and, for a specific value of X, produce 10 estimates of:\n",
    "\n",
    "`P(Class is Red|X): 0.1, 0.15, 0.2, 0.2, 0.55, 0.6, 0.6, 0.65, 0.7, and 0.75.`\n",
    "\n",
    "3There are two common ways to combine these results together into a single class prediction. One is the majority vote approach discussed in this chapter. The second approach is to classify based on the average probability. In this example, what is the final classification under each of these two approaches?"
   ]
  },
  {
   "cell_type": "code",
   "execution_count": 81,
   "metadata": {},
   "outputs": [
    {
     "name": "stdout",
     "output_type": "stream",
     "text": [
      "majority vote: Red\n",
      "mean probability: Green\n"
     ]
    }
   ],
   "source": [
    "# marjority vote\n",
    "ps = np.array([0.1, 0.15, 0.2, 0.2, 0.55, 0.6, 0.6, 0.65, 0.7, 0.75])\n",
    "res = 'Red' if (((ps > 0.5).sum() / len(ps)) >  0.5) else 'Green'\n",
    "print('majority vote: {}'.format(res))\n",
    "\n",
    "# avg probability\n",
    "res = 'Red' if (ps.mean() >  0.5) else 'Green'\n",
    "print('mean probability: {}'.format(res))"
   ]
  },
  {
   "cell_type": "markdown",
   "metadata": {},
   "source": [
    "6. Provide a detailed explanation of the algorithm that is used to fit a regression tree."
   ]
  },
  {
   "cell_type": "markdown",
   "metadata": {},
   "source": [
    "- (1) Recursive binary splitting: select split such that RSS is minimized, repeat until some stopping condition - for example minimum number of observations in each terminal node. How do we try all such split for a continuous variable? The answer is here: https://stats.stackexchange.com/questions/220350/regression-trees-how-are-splits-decided. We try splits at each value of the predictor for every observation.\n",
    "\n",
    "If we decide on some small number for the minimum number of observations in the terminal nodes, (1) will yield a tree with low bias and high variance. To obtain a lower vairance model one can use cost complexity pruning, to collapse nodes; increasing bias in the hope of a bigger dividend in reduced variance with the aim of improving overall predictive performance. In practice, this technique is not commonplace in ML, the preferred means of reducing variance is to use an ensemble method: bagging and random forests or to use the additive boosted tree model. These techniques are not as interpretable as the simple tree."
   ]
  }
 ],
 "metadata": {
  "kernelspec": {
   "display_name": "Python 3",
   "language": "python",
   "name": "python3"
  },
  "language_info": {
   "codemirror_mode": {
    "name": "ipython",
    "version": 3
   },
   "file_extension": ".py",
   "mimetype": "text/x-python",
   "name": "python",
   "nbconvert_exporter": "python",
   "pygments_lexer": "ipython3",
   "version": "3.6.5"
  }
 },
 "nbformat": 4,
 "nbformat_minor": 2
}
