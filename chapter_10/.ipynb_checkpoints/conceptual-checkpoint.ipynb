{
 "cells": [
  {
   "cell_type": "code",
   "execution_count": 108,
   "metadata": {},
   "outputs": [],
   "source": [
    "import pandas as pd\n",
    "import numpy as np\n",
    "import seaborn as sns\n",
    "import matplotlib.pyplot as plt\n",
    "from sklearn import cluster"
   ]
  },
  {
   "cell_type": "markdown",
   "metadata": {},
   "source": [
    "1. This problem involves the K-means clustering algorithm.\n",
    "\n",
    "(a) Prove `(10.12)`.\n",
    "\n",
    "![q1](https://github.com/coxy1989/isl/blob/master/chapter_10/q1.jpg?raw=true)"
   ]
  },
  {
   "cell_type": "markdown",
   "metadata": {},
   "source": [
    "(b) On the basis of this identity, argue that the K-means clustering algorithm `(Algorithm 10.1)` decreases the objective `(10.11)` at each iteration.\n",
    "\n",
    "- In `10.1` we reduce the RHS of the inequality `10.12` by reducing the distance of the points in the cluster from the cluster mean. `10.12` shows that this is equivalent to reducing the objective `10.11` - which is the LHS of `10.12`."
   ]
  },
  {
   "cell_type": "markdown",
   "metadata": {},
   "source": [
    "2. Suppose that we have four observations, for which we compute a dissimilarity matrix, given by: `(see ISL p413`). For instance, the dissimilarity between the first and second observations is `0.3`, and the dissimilarity between the second and fourth observations is `0.8`.\n",
    "\n",
    "(a) On the basis of this dissimilarity matrix, sketch the dendrogram that results from hierarchically clustering these four observa- tions using complete linkage. Be sure to indicate on the plot the height at which each fusion occurs, as well as the observations corresponding to each leaf in the dendrogram.\n",
    "\n",
    "(b) Repeat (a), this time using single linkage clustering.\n",
    "\n",
    "![q1 and b](https://github.com/coxy1989/isl/blob/master/chapter_10/q2.JPG?raw=true)\n",
    "\n",
    "(c) Suppose that we cut the dendogram obtained in (a) such that two clusters result. Which observations are in each cluster?\n",
    "\n",
    "- The clusters `{1, 2}` and `{3,4}`\n",
    "\n",
    "(d) Suppose that we cut the dendogram obtained in (b) such that two clusters result. Which observations are in each cluster?\n",
    "\n",
    "- The clusters are `{1, 2, 3}` and `{4}`\n",
    "\n",
    "(e) It is mentioned in the chapter that at each fusion in the den- drogram, the position of the two clusters being fused can be swapped without changing the meaning of the dendrogram. Draw a dendrogram that is equivalent to the dendrogram in (a), for which two or more of the leaves are repositioned, but for which the meaning of the dendrogram is the same.\n",
    "\n",
    "- You can trivially see this by looking at the diagrams in [q1 and b](https://github.com/coxy1989/isl/blob/master/chapter_10/q2.JPG?raw=true), in (a) you can switch 1 and 2 or you can switch 3 and 4. In (b) you can switch 1 and 2."
   ]
  },
  {
   "cell_type": "markdown",
   "metadata": {},
   "source": [
    "3. In this problem, you will perform K-means clustering manually, with K = 2, on a small example with n = 6 observations and p = 2 features. The observations are as follows:"
   ]
  },
  {
   "cell_type": "code",
   "execution_count": 67,
   "metadata": {},
   "outputs": [
    {
     "data": {
      "text/html": [
       "<div>\n",
       "<style scoped>\n",
       "    .dataframe tbody tr th:only-of-type {\n",
       "        vertical-align: middle;\n",
       "    }\n",
       "\n",
       "    .dataframe tbody tr th {\n",
       "        vertical-align: top;\n",
       "    }\n",
       "\n",
       "    .dataframe thead th {\n",
       "        text-align: right;\n",
       "    }\n",
       "</style>\n",
       "<table border=\"1\" class=\"dataframe\">\n",
       "  <thead>\n",
       "    <tr style=\"text-align: right;\">\n",
       "      <th></th>\n",
       "      <th>x1</th>\n",
       "      <th>x2</th>\n",
       "    </tr>\n",
       "  </thead>\n",
       "  <tbody>\n",
       "    <tr>\n",
       "      <th>1</th>\n",
       "      <td>1</td>\n",
       "      <td>4</td>\n",
       "    </tr>\n",
       "    <tr>\n",
       "      <th>2</th>\n",
       "      <td>1</td>\n",
       "      <td>3</td>\n",
       "    </tr>\n",
       "    <tr>\n",
       "      <th>3</th>\n",
       "      <td>0</td>\n",
       "      <td>4</td>\n",
       "    </tr>\n",
       "    <tr>\n",
       "      <th>4</th>\n",
       "      <td>5</td>\n",
       "      <td>1</td>\n",
       "    </tr>\n",
       "    <tr>\n",
       "      <th>5</th>\n",
       "      <td>6</td>\n",
       "      <td>2</td>\n",
       "    </tr>\n",
       "    <tr>\n",
       "      <th>6</th>\n",
       "      <td>4</td>\n",
       "      <td>0</td>\n",
       "    </tr>\n",
       "  </tbody>\n",
       "</table>\n",
       "</div>"
      ],
      "text/plain": [
       "   x1  x2\n",
       "1   1   4\n",
       "2   1   3\n",
       "3   0   4\n",
       "4   5   1\n",
       "5   6   2\n",
       "6   4   0"
      ]
     },
     "execution_count": 67,
     "metadata": {},
     "output_type": "execute_result"
    }
   ],
   "source": [
    "df = pd.DataFrame({'x1' : [1,1,0,5,6,4], 'x2' : [4,3,4,1,2,0]})\n",
    "df.index = df.index + 1\n",
    "df"
   ]
  },
  {
   "cell_type": "markdown",
   "metadata": {},
   "source": [
    "(a) Plot the observations."
   ]
  },
  {
   "cell_type": "code",
   "execution_count": 68,
   "metadata": {},
   "outputs": [
    {
     "data": {
      "text/plain": [
       "<matplotlib.axes._subplots.AxesSubplot at 0x108e16240>"
      ]
     },
     "execution_count": 68,
     "metadata": {},
     "output_type": "execute_result"
    },
    {
     "data": {
      "image/png": "[encoded data removed]",
      "text/plain": [
       "<Figure size 432x288 with 1 Axes>"
      ]
     },
     "metadata": {},
     "output_type": "display_data"
    }
   ],
   "source": [
    "sns.scatterplot(x='x1', y='x2', data=df)"
   ]
  },
  {
   "cell_type": "markdown",
   "metadata": {},
   "source": [
    "(b) Randomly assign a cluster label to each observation. Report the cluster labels for each observation."
   ]
  },
  {
   "cell_type": "code",
   "execution_count": 82,
   "metadata": {},
   "outputs": [
    {
     "data": {
      "text/plain": [
       "<matplotlib.axes._subplots.AxesSubplot at 0x10905b780>"
      ]
     },
     "execution_count": 82,
     "metadata": {},
     "output_type": "execute_result"
    },
    {
     "data": {
      "image/png": "[encoded data removed]",
      "text/plain": [
       "<Figure size 432x288 with 1 Axes>"
      ]
     },
     "metadata": {},
     "output_type": "display_data"
    }
   ],
   "source": [
    "df['class'] = np.random.uniform(0,1,df.shape[0]) > 0.5\n",
    "sns.scatterplot(x='x1', y='x2', hue='class', data=df)"
   ]
  },
  {
   "cell_type": "markdown",
   "metadata": {},
   "source": [
    "(c) Compute the centroid for each cluster."
   ]
  },
  {
   "cell_type": "code",
   "execution_count": 83,
   "metadata": {},
   "outputs": [
    {
     "data": {
      "image/png": "[encoded data removed]",
      "text/plain": [
       "<Figure size 432x288 with 1 Axes>"
      ]
     },
     "metadata": {},
     "output_type": "display_data"
    }
   ],
   "source": [
    "def compute_centroids(df):\n",
    "    c_1 = df[df['class']].mean()[['x1', 'x2']]\n",
    "    c_2 = df[df['class'] == False].mean()[['x1', 'x2']]\n",
    "    return c_1, c_2\n",
    "\n",
    "centroid_1, centroid_2 = compute_centroids(df)\n",
    "ax = sns.scatterplot(x='x1', y='x2', hue='class', data=df)\n",
    "_ = ax.text(centroid_1.x1, centroid_1.x2, 'C_1')\n",
    "_ = ax.text(centroid_2.x1, centroid_2.x2, 'C_2')"
   ]
  },
  {
   "cell_type": "markdown",
   "metadata": {},
   "source": [
    "(d) Assign each observation to the centroid to which it is closest, in terms of Euclidean distance. Report the cluster labels for each observation."
   ]
  },
  {
   "cell_type": "code",
   "execution_count": 84,
   "metadata": {},
   "outputs": [
    {
     "data": {
      "text/plain": [
       "Text(2.33333,3,'C_2')"
      ]
     },
     "execution_count": 84,
     "metadata": {},
     "output_type": "execute_result"
    },
    {
     "data": {
      "image/png": "[encoded data removed]",
      "text/plain": [
       "<Figure size 432x288 with 1 Axes>"
      ]
     },
     "metadata": {},
     "output_type": "display_data"
    }
   ],
   "source": [
    "def compute_class(df, centroid_1, centroid_2):\n",
    "    c1 = np.sqrt(((centroid_1.x1 - df.x1) ** 2) + ((centroid_1.x2 - df.x2) ** 2))\n",
    "    c2 = np.sqrt(((centroid_2.x1 - df.x1) ** 2) + ((centroid_2.x2 - df.x2) ** 2))\n",
    "    return c1 < c2\n",
    "\n",
    "\n",
    "df['class'] = compute_class(df, centroid_1, centroid_2)\n",
    "ax = sns.scatterplot(x='x1', y='x2', hue='class', data=df)\n",
    "ax.text(centroid_1.x1, centroid_1.x2, 'C_1')\n",
    "ax.text(centroid_2.x1, centroid_2.x2, 'C_2')"
   ]
  },
  {
   "cell_type": "markdown",
   "metadata": {},
   "source": [
    "(e) Repeat (c) and (d) until the answers obtained stop changing."
   ]
  },
  {
   "cell_type": "code",
   "execution_count": 92,
   "metadata": {},
   "outputs": [
    {
     "data": {
      "text/plain": [
       "Text(0.666667,3.66667,'C_2')"
      ]
     },
     "execution_count": 92,
     "metadata": {},
     "output_type": "execute_result"
    },
    {
     "data": {
      "image/png": "[encoded data removed]",
      "text/plain": [
       "<Figure size 432x288 with 1 Axes>"
      ]
     },
     "metadata": {},
     "output_type": "display_data"
    }
   ],
   "source": [
    "centroid_1, centroid_2 = compute_centroids(df)\n",
    "df['class'] = compute_class(df, centroid_1, centroid_2)\n",
    "ax = sns.scatterplot(x='x1', y='x2', hue='class', data=df)\n",
    "ax.text(centroid_1.x1, centroid_1.x2, 'C_1')\n",
    "ax.text(centroid_2.x1, centroid_2.x2, 'C_2')"
   ]
  },
  {
   "cell_type": "markdown",
   "metadata": {},
   "source": [
    "4. Suppose that for a particular data set, we perform hierarchical clustering using single linkage and using complete linkage. We obtain two dendrograms.\n",
    "\n",
    "(a) At a certain point on the single linkage dendrogram, the clusters `{1,2,3}` and `{4,5}` fuse. On the complete linkage dendrogram, the clusters `{1, 2, 3}` and `{4, 5}` also fuse at a certain point. Which fusion will occur higher on the tree, or will they fuse at the same height, or is there not enough information to tell?\n",
    "\n",
    "- In the special case that `1 = 2 = 3` and `4 = 5`, then fusion will occur at the same level for both single and complete linkage.\n",
    "- If `1 = 2 = 3` is NOT true or `4 = 5` is NOT true, then fusion will occur at a higher level for complete linkage compared to single linkage."
   ]
  },
  {
   "cell_type": "markdown",
   "metadata": {},
   "source": [
    "(b) At a certain point on the single linkage dendrogram, the clusters `{5}` and `{6}` fuse. On the complete linkage dendrogram, the clusters `{5}` and `{6}` also fuse at a certain point. Which fusion will occur higher on the tree, or will they fuse at the same height, or is there not enough information to tell?\n",
    "\n",
    "- The same height, there is only one item in each cluster and therefore linkage is irrelevant."
   ]
  },
  {
   "cell_type": "markdown",
   "metadata": {},
   "source": [
    "5. In words, describe the results that you would expect if you performed K-means clustering of the eight shoppers in Figure `10.14`, on the basis of their sock and computer purchases, with `K = 2`. Give three answers, one for each of the variable scalings displayed. Explain.\n",
    "\n",
    "- LHS: `s: 8,11,7,6,5,6,7,8` `c: 0,0,0,0,1,1,1,1` the outlier with `s = 11, c = 0` dominates, resulting in a cluster containing only that observation and another cluster with the rest.\n",
    "\n",
    "- MID: `s: 1,1.3,0.9,0.75,0.6,0.75,0.8,1` `c: 0,0,0,0,1.2,1.2,1.2,1.2`: the clustering is dominated by the magnitude of the variance of `c` we should expect the two clusters corresponding to `c=1` and `c=0` with `s` ignored.\n",
    "\n",
    "- RHS: `s: 0,0,0,0,0,0,0,0` `c: 0,0,0,0,1,1,1,1`: the clustering is along a line, there is no variance in the `s` dimension."
   ]
  },
  {
   "cell_type": "code",
   "execution_count": 118,
   "metadata": {},
   "outputs": [
    {
     "data": {
      "text/plain": [
       "<matplotlib.axes._subplots.AxesSubplot at 0x10bbc30b8>"
      ]
     },
     "execution_count": 118,
     "metadata": {},
     "output_type": "execute_result"
    },
    {
     "data": {
      "image/png": "[encoded data removed]",
      "text/plain": [
       "<Figure size 720x720 with 3 Axes>"
      ]
     },
     "metadata": {},
     "output_type": "display_data"
    }
   ],
   "source": [
    "_, (ax1, ax2, ax3) = plt.subplots(figsize=(10,10), nrows=3)\n",
    "\n",
    "lhs = pd.DataFrame({'s' : [8,11,7,6,5,6,7,8], 'c' : [0,0,0,0,1,1,1,1]})\n",
    "lhs['class'] = cluster.KMeans(n_clusters=2).fit_predict(lhs)\n",
    "sns.scatterplot(x='s', y='c', hue='class', data=lhs, ax=ax1)\n",
    "\n",
    "lhs = pd.DataFrame({'s' : [1,1.3,0.9,0.75,0.6,0.75,0.8,1], 'c' : [0,0,0,0,1.2,1.2,1.2,1.2]})\n",
    "lhs['class'] = cluster.KMeans(n_clusters=2).fit_predict(lhs)\n",
    "sns.scatterplot(x='s', y='c', hue='class', data=lhs, ax=ax2)\n",
    "\n",
    "lhs = pd.DataFrame({'s' : [0,0,0,0,0,0,0,0], 'c' : [0,0,0,0,1,1,1,1]})\n",
    "lhs['class'] = cluster.KMeans(n_clusters=2).fit_predict(lhs)\n",
    "sns.scatterplot(x='s', y='c', hue='class', data=lhs, ax=ax3)"
   ]
  },
  {
   "cell_type": "markdown",
   "metadata": {},
   "source": [
    "6. A researcher collects expression measurements for `1,000` genes in `100` tissue samples. The data can be written as a `1000 × 100` matrix, which we call `X`, in which each row represents a gene and each column a tissue sample. Each tissue sample was processed on a different day, and the columns of X are ordered so that the samples that were processed earliest are on the left, and the samples that were processed later are on the right. The tissue samples belong to two groups: control (C) and treatment (T). The `C` and `T` samples were processed in a random order across the days. The researcher wishes to determine whether each gene’s expression measurements differ between the treatment and control groups. As a pre-analysis (before comparing `T` versus `C`), the researcher performs a principal component analysis of the data, and finds that the first principal component (a vector of length `100`) has a strong linear trend from left to right, and explains 10% of the variation. The researcher now remembers that each patient sample was run on one of two machines, A and B, and machine A was used more often in the earlier times while B was used more often later. The researcher has a record of which sample was run on which machine.\n",
    "\n",
    "\n",
    "(a) Explain what it means that the first principal component “explains 10 % of the variation”.\n",
    "\n",
    "- The ratio of (the variance of the data projected onto the first principal component) to (the total variance of the data) is 0.1\n",
    "\n",
    "\n",
    "(b) The researcher decides to replace the `(j, i)th` element of `X` with `xji − φj1zi1`\n",
    "where `zi1` is the `ith` score, and `φj1` is the `jth` loading, for the first principal component. He will then perform a two-sample t-test on each gene in this new data set in order to determine whether its expression differs between the two conditions. Critique this idea, and suggest a better approach. (The principal component analysis is performed on `X.T`).\n",
    "\n",
    "(c) Design and run a small simulation experiment to demonstrate the superiority of your idea.\n",
    "\n",
    "The indexes in this question don't make sense: \n",
    "- The data matrix `X` is of shape `1000 X 100`\n",
    "- The `X[j][i]` element in `X` is replaced with `x[j][i] - phi[j][1] * z[i][1]`\n",
    "- The shape of phi is `100 x 100`\n",
    "- How can both `X` and `phi` be indexed in their first dimesion by `j`??\n",
    "\n",
    "Moreover:\n",
    "- We're told \"the first principal component (a vector of length `100`)\"\n",
    "- We're told \"the principal component analysis is performed on `X.T`\"\n",
    "- `X.T` is `100 x 1000` therefore the first principal component would be of length `1000`.\n",
    "\n",
    "Seems to me this question is extremely unclear, I'll come back after discussion with study buddy."
   ]
  }
 ],
 "metadata": {
  "kernelspec": {
   "display_name": "Python 3",
   "language": "python",
   "name": "python3"
  },
  "language_info": {
   "codemirror_mode": {
    "name": "ipython",
    "version": 3
   },
   "file_extension": ".py",
   "mimetype": "text/x-python",
   "name": "python",
   "nbconvert_exporter": "python",
   "pygments_lexer": "ipython3",
   "version": "3.6.7"
  }
 },
 "nbformat": 4,
 "nbformat_minor": 2
}
